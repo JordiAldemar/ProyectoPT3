{
 "cells": [
  {
   "cell_type": "code",
   "execution_count": 3,
   "source": [
    "#Para crear y análizar redes\r\n",
    "import networkx as nx\r\n",
    "#Para leer desde un archivo\r\n",
    "import pandas as pd \r\n",
    "#Para generar errores aleatorios\r\n",
    "import random\r\n",
    "# using datetime module\r\n",
    "import datetime\r\n",
    "import os\r\n",
    "import numpy as np\r\n",
    "import matplotlib.pyplot as plt"
   ],
   "outputs": [],
   "metadata": {}
  },
  {
   "cell_type": "code",
   "execution_count": 77,
   "source": [
    "for r in (1, 2):\r\n",
    "    regla = \"r\" + str(r)\r\n",
    "    for e in (1, 2, 4, 8, 16, 32):\r\n",
    "        enlace = \"enlaceD\" + str(e)\r\n",
    "        for exp in (1, 2, 3, 4, 5, 6, 7, 8, 9, 10):\r\n",
    "            experimento = \"experimento\" + str(exp)\r\n",
    "            nombre_grafo = regla + \"_\" + enlace + \"_\" + experimento + \"_ciclo30.graphml\"\r\n",
    "            ruta_grafo = \"graphs\\\\\" + regla + \"\\\\\" + enlace + \"\\\\\" + experimento + \"\\\\\" + nombre_grafo\r\n",
    "            grafo = nx.read_graphml(ruta_grafo)\r\n",
    "            \r\n",
    "        # Degree Rank Plot\r\n",
    "\r\n",
    "            # Esta variable ordena todos los valores del segundo elemento, en este caso \"d\" por cada grado nodal\r\n",
    "            degree_sequence = sorted((d for n, d in grafo.degree()))\r\n",
    "            # Total de numeros\r\n",
    "            total_numeros = range(1, len(nx.nodes(grafo))+1)\r\n",
    "            ##### Guardar datos en un DataFrame ###\r\n",
    "            # Declarar diccionario para acomodar los valores\r\n",
    "            dictionary = {\"Total Nodos\": total_numeros, \"Valor del nodo\": degree_sequence}\r\n",
    "            # Hacer el data frames de mi diccionario\r\n",
    "            diccionario_df = pd.DataFrame(dictionary)    \r\n",
    "            # Imprimir el DataFrames\r\n",
    "            #print(diccionario_df)    \r\n",
    "            pd.DataFrame(dictionary).to_csv('graphs\\\\' + regla + \"\\\\\" + enlace + \"\\\\\" + experimento + '\\\\' + regla + \"_\" + enlace + \"_\" + experimento + '_RankPlot.csv', index=False)\r\n",
    "\r\n",
    "        # Degree Histogram\r\n",
    "\r\n",
    "            \r\n"
   ],
   "outputs": [],
   "metadata": {}
  },
  {
   "cell_type": "markdown",
   "source": [
    "# Degree Histogram"
   ],
   "metadata": {}
  },
  {
   "cell_type": "code",
   "execution_count": 12,
   "source": [
    "def distribucion_grados(G):\r\n",
    "\r\n",
    "    \r\n",
    "    # Esta variable ordena todos los valores del segundo elemento, en este caso \"d\" por cada grado nodal\r\n",
    "    degree_sequence = sorted((d for n, d in G.degree()))\r\n",
    "\r\n",
    "    # la variable diccionario asocia claves a valores con la clase \"dict\"; la función \"zip\"  toma como argumento dos o más objetos iterables\r\n",
    "    # en este caso asociará la cantidad de elementos que hay de cada uno de la variable \"degree_sequence\"; map devuelve el objeto al iterador\r\n",
    "    # Los valores finales terminaran con un dicionario donde la llave es el numero y la clave, la cantidad de veces que se repite.\r\n",
    "    diccionario_dg = (dict(zip(degree_sequence,map(lambda x: degree_sequence.count(x), degree_sequence))))\r\n",
    "    #print(diccionario_dg)\r\n",
    "\r\n",
    "    valor_llaves = diccionario_dg.keys()\r\n",
    "    #print(valor_llaves)\r\n",
    "\r\n",
    "    # Total de nodos en la red\r\n",
    "    total_red = len(nx.nodes(G))\r\n",
    "    #print(total_red)\r\n",
    "\r\n",
    "    # Declarar una lista vacia con la lista del grado promedio\r\n",
    "    lista_grado_promedio = []\r\n",
    "    lista_total_grados = []\r\n",
    "\r\n",
    "    for clave in diccionario_dg:\r\n",
    "        #print(diccionario_distribucion_grados[clave])\r\n",
    "        lista_grado_promedio.append(diccionario_dg[clave]/total_red) \r\n",
    "        lista_total_grados.append(diccionario_dg[clave])\r\n",
    "\r\n",
    "    ##### Guardar datos en un DataFrame ###\r\n",
    "    # Declarar diccionario para acomodar los valores\r\n",
    "    dictionary = {\"Grado Nodal\": valor_llaves, \"Proporcion de Nodos\": lista_grado_promedio, \"Numero de Nodos\": lista_total_grados}\r\n",
    "    # Hacer el data frames de mi diccionario\r\n",
    "    diccionario_df = pd.DataFrame(dictionary)\r\n",
    "    \r\n",
    "    # Imprimir el DataFrames\r\n",
    "    print(diccionario_df)\r\n",
    "    \r\n",
    "    diccionario_df.to_csv('prueba.csv', index=False)\r\n",
    "\r\n",
    "\r\n",
    "    #return (diccionario_df, valor_llaves, lista_grado_promedio)"
   ],
   "outputs": [],
   "metadata": {}
  },
  {
   "cell_type": "code",
   "execution_count": 13,
   "source": [
    "H = nx.gnp_random_graph(100, 0.02, seed=10374196)"
   ],
   "outputs": [],
   "metadata": {}
  },
  {
   "cell_type": "code",
   "execution_count": 14,
   "source": [
    "distribucion_grados(H)"
   ],
   "outputs": [
    {
     "output_type": "stream",
     "name": "stdout",
     "text": [
      "   Grado Nodal  Proporcion de Nodos  Numero de Nodos\n",
      "0            0                 0.16               16\n",
      "1            1                 0.22               22\n",
      "2            2                 0.34               34\n",
      "3            3                 0.10               10\n",
      "4            4                 0.13               13\n",
      "5            5                 0.04                4\n",
      "6            6                 0.01                1\n"
     ]
    }
   ],
   "metadata": {}
  }
 ],
 "metadata": {
  "interpreter": {
   "hash": "6d46af94c2bbce495f1e668725902fa517c90b1782bcfe2fce0dd9868df553d3"
  },
  "kernelspec": {
   "name": "python3",
   "display_name": "Python 3.8.11 64-bit ('base': conda)"
  },
  "language_info": {
   "codemirror_mode": {
    "name": "ipython",
    "version": 3
   },
   "file_extension": ".py",
   "mimetype": "text/x-python",
   "name": "python",
   "nbconvert_exporter": "python",
   "pygments_lexer": "ipython3",
   "version": "3.8.11"
  }
 },
 "nbformat": 4,
 "nbformat_minor": 5
}